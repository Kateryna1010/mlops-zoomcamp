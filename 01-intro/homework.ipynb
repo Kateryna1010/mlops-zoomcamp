{
 "cells": [
  {
   "cell_type": "code",
   "execution_count": 2,
   "id": "2be3ebba",
   "metadata": {},
   "outputs": [],
   "source": [
    "import pandas as pd\n",
    "\n",
    "from sklearn.feature_extraction import DictVectorizer\n",
    "from sklearn.linear_model import LinearRegression\n",
    "from sklearn.metrics import mean_squared_error\n"
   ]
  },
  {
   "cell_type": "code",
   "execution_count": 3,
   "id": "0477c81e",
   "metadata": {},
   "outputs": [],
   "source": [
    "def read_dataframe(filename, month):\n",
    "    if filename.endswith('.csv'):\n",
    "        df = pd.read_csv(filename)\n",
    "\n",
    "        df.tpep_dropoff_datetime = pd.to_datetime(df.tpep_dropoff_datetime)\n",
    "        df.tpep_pickup_datetime = pd.to_datetime(df.tpep_pickup_datetime)\n",
    "    elif filename.endswith('.parquet'):\n",
    "        df = pd.read_parquet(filename)\n",
    "    print(f\"Number of columns for {month}: {df.shape[1]}\")\n",
    "\n",
    "    df['duration'] = df.tpep_dropoff_datetime - df.tpep_pickup_datetime\n",
    "    df.duration = df.duration.apply(lambda td: td.total_seconds() / 60)\n",
    "    print(f\"Standard deviation for column duration for {month}: {df['duration'].std()}\")\n",
    "    print(f\"Fraction of the records left for {month}: {((df.duration >= 1) & (df.duration <= 60)).mean()}\")\n",
    "\n",
    "    df = df[(df.duration >= 1) & (df.duration <= 60)]\n",
    "\n",
    "    categorical = ['PULocationID', 'DOLocationID']\n",
    "    df[categorical] = df[categorical].astype(str)\n",
    "    \n",
    "    return df"
   ]
  },
  {
   "cell_type": "code",
   "execution_count": 4,
   "id": "c982657a",
   "metadata": {},
   "outputs": [
    {
     "name": "stdout",
     "output_type": "stream",
     "text": [
      "Number of columns for January: 19\n",
      "Standard deviation for column duration for January: 42.594351241920904\n",
      "Fraction of the records left for January: 0.9812202822125979\n",
      "Number of columns for February: 19\n",
      "Standard deviation for column duration for February: 42.84210176105097\n",
      "Fraction of the records left for February: 0.9800944077722545\n"
     ]
    }
   ],
   "source": [
    "df_train = read_dataframe('../data/yellow_tripdata_2023-01.parquet', 'January')\n",
    "df_val = read_dataframe('../data/yellow_tripdata_2023-02.parquet', 'February')"
   ]
  },
  {
   "cell_type": "code",
   "execution_count": 7,
   "id": "3c280181",
   "metadata": {},
   "outputs": [
    {
     "name": "stdout",
     "output_type": "stream",
     "text": [
      "The dimensionality of the matrix for January: 515\n",
      "RMSE on train: 7.649261027792376\n",
      "RMSE on validation: 7.811832836304415\n"
     ]
    }
   ],
   "source": [
    "categorical = ['PULocationID', 'DOLocationID']\n",
    "\n",
    "dv = DictVectorizer()\n",
    "\n",
    "train_dicts = df_train[categorical].to_dict(orient='records')\n",
    "X_train = dv.fit_transform(train_dicts)\n",
    "print(f\"The dimensionality of the matrix for January: {X_train.shape[1]}\")\n",
    "\n",
    "val_dicts = df_val[categorical].to_dict(orient='records')\n",
    "X_val = dv.transform(val_dicts)\n",
    "target = 'duration'\n",
    "y_train = df_train[target].values\n",
    "y_val = df_val[target].values\n",
    "lr = LinearRegression()\n",
    "lr.fit(X_train, y_train)\n",
    "y_pred_train = lr.predict(X_train)\n",
    "print(f\"RMSE on train: {mean_squared_error(y_train, y_pred_train, squared=False)}\")\n",
    "y_pred_val = lr.predict(X_val)\n",
    "print(f\"RMSE on validation: {mean_squared_error(y_val, y_pred_val, squared=False)}\")"
   ]
  },
  {
   "cell_type": "markdown",
   "id": "aa110d05",
   "metadata": {},
   "source": [
    "Number of columns for January: 19 \\\n",
    "Standard deviation for column duration for January: 42.59 \\\n",
    "Fraction of the records left for January: 0.98 \\\n",
    "The dimensionality of the matrix for January: 515 \\\n",
    "RMSE on train: 7.64 \\\n",
    "RMSE on validation: 7.81"
   ]
  },
  {
   "cell_type": "code",
   "execution_count": null,
   "id": "fd3c0b9e",
   "metadata": {},
   "outputs": [],
   "source": []
  }
 ],
 "metadata": {
  "kernelspec": {
   "display_name": "Python 3 (ipykernel)",
   "language": "python",
   "name": "python3"
  },
  "language_info": {
   "codemirror_mode": {
    "name": "ipython",
    "version": 3
   },
   "file_extension": ".py",
   "mimetype": "text/x-python",
   "name": "python",
   "nbconvert_exporter": "python",
   "pygments_lexer": "ipython3",
   "version": "3.9.12"
  }
 },
 "nbformat": 4,
 "nbformat_minor": 5
}
